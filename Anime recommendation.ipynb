{
 "cells": [
  {
   "cell_type": "code",
   "execution_count": 1,
   "id": "1ce2f291",
   "metadata": {},
   "outputs": [],
   "source": [
    "import numpy as np\n",
    "import pandas as pd\n",
    "import matplotlib.pyplot as plt\n",
    "import seaborn as sns\n",
    "from sklearn.cluster import KMeans\n",
    "from scipy.spatial import distance"
   ]
  },
  {
   "cell_type": "code",
   "execution_count": 3,
   "id": "7d78ab0e",
   "metadata": {},
   "outputs": [],
   "source": [
    "data=pd.read_csv('anime.csv')"
   ]
  },
  {
   "cell_type": "code",
   "execution_count": 4,
   "id": "e2ea9ada",
   "metadata": {},
   "outputs": [
    {
     "data": {
      "text/html": [
       "<div>\n",
       "<style scoped>\n",
       "    .dataframe tbody tr th:only-of-type {\n",
       "        vertical-align: middle;\n",
       "    }\n",
       "\n",
       "    .dataframe tbody tr th {\n",
       "        vertical-align: top;\n",
       "    }\n",
       "\n",
       "    .dataframe thead th {\n",
       "        text-align: right;\n",
       "    }\n",
       "</style>\n",
       "<table border=\"1\" class=\"dataframe\">\n",
       "  <thead>\n",
       "    <tr style=\"text-align: right;\">\n",
       "      <th></th>\n",
       "      <th>anime_id</th>\n",
       "      <th>name</th>\n",
       "      <th>genre</th>\n",
       "      <th>type</th>\n",
       "      <th>episodes</th>\n",
       "      <th>rating</th>\n",
       "      <th>members</th>\n",
       "    </tr>\n",
       "  </thead>\n",
       "  <tbody>\n",
       "    <tr>\n",
       "      <th>0</th>\n",
       "      <td>32281</td>\n",
       "      <td>Kimi no Na wa.</td>\n",
       "      <td>Drama, Romance, School, Supernatural</td>\n",
       "      <td>Movie</td>\n",
       "      <td>1</td>\n",
       "      <td>9.37</td>\n",
       "      <td>200630</td>\n",
       "    </tr>\n",
       "    <tr>\n",
       "      <th>1</th>\n",
       "      <td>5114</td>\n",
       "      <td>Fullmetal Alchemist: Brotherhood</td>\n",
       "      <td>Action, Adventure, Drama, Fantasy, Magic, Mili...</td>\n",
       "      <td>TV</td>\n",
       "      <td>64</td>\n",
       "      <td>9.26</td>\n",
       "      <td>793665</td>\n",
       "    </tr>\n",
       "    <tr>\n",
       "      <th>2</th>\n",
       "      <td>28977</td>\n",
       "      <td>Gintama°</td>\n",
       "      <td>Action, Comedy, Historical, Parody, Samurai, S...</td>\n",
       "      <td>TV</td>\n",
       "      <td>51</td>\n",
       "      <td>9.25</td>\n",
       "      <td>114262</td>\n",
       "    </tr>\n",
       "    <tr>\n",
       "      <th>3</th>\n",
       "      <td>9253</td>\n",
       "      <td>Steins;Gate</td>\n",
       "      <td>Sci-Fi, Thriller</td>\n",
       "      <td>TV</td>\n",
       "      <td>24</td>\n",
       "      <td>9.17</td>\n",
       "      <td>673572</td>\n",
       "    </tr>\n",
       "    <tr>\n",
       "      <th>4</th>\n",
       "      <td>9969</td>\n",
       "      <td>Gintama&amp;#039;</td>\n",
       "      <td>Action, Comedy, Historical, Parody, Samurai, S...</td>\n",
       "      <td>TV</td>\n",
       "      <td>51</td>\n",
       "      <td>9.16</td>\n",
       "      <td>151266</td>\n",
       "    </tr>\n",
       "  </tbody>\n",
       "</table>\n",
       "</div>"
      ],
      "text/plain": [
       "   anime_id                              name  \\\n",
       "0     32281                    Kimi no Na wa.   \n",
       "1      5114  Fullmetal Alchemist: Brotherhood   \n",
       "2     28977                          Gintama°   \n",
       "3      9253                       Steins;Gate   \n",
       "4      9969                     Gintama&#039;   \n",
       "\n",
       "                                               genre   type episodes  rating  \\\n",
       "0               Drama, Romance, School, Supernatural  Movie        1    9.37   \n",
       "1  Action, Adventure, Drama, Fantasy, Magic, Mili...     TV       64    9.26   \n",
       "2  Action, Comedy, Historical, Parody, Samurai, S...     TV       51    9.25   \n",
       "3                                   Sci-Fi, Thriller     TV       24    9.17   \n",
       "4  Action, Comedy, Historical, Parody, Samurai, S...     TV       51    9.16   \n",
       "\n",
       "   members  \n",
       "0   200630  \n",
       "1   793665  \n",
       "2   114262  \n",
       "3   673572  \n",
       "4   151266  "
      ]
     },
     "execution_count": 4,
     "metadata": {},
     "output_type": "execute_result"
    }
   ],
   "source": [
    "data.head()"
   ]
  },
  {
   "cell_type": "code",
   "execution_count": 5,
   "id": "a69b9704",
   "metadata": {},
   "outputs": [],
   "source": [
    "genre=data['genre'].values"
   ]
  },
  {
   "cell_type": "code",
   "execution_count": 6,
   "id": "4dbb662b",
   "metadata": {},
   "outputs": [
    {
     "name": "stdout",
     "output_type": "stream",
     "text": [
      "<class 'pandas.core.frame.DataFrame'>\n",
      "RangeIndex: 12294 entries, 0 to 12293\n",
      "Data columns (total 7 columns):\n",
      " #   Column    Non-Null Count  Dtype  \n",
      "---  ------    --------------  -----  \n",
      " 0   anime_id  12294 non-null  int64  \n",
      " 1   name      12294 non-null  object \n",
      " 2   genre     12232 non-null  object \n",
      " 3   type      12269 non-null  object \n",
      " 4   episodes  12294 non-null  object \n",
      " 5   rating    12064 non-null  float64\n",
      " 6   members   12294 non-null  int64  \n",
      "dtypes: float64(1), int64(2), object(4)\n",
      "memory usage: 672.5+ KB\n"
     ]
    }
   ],
   "source": [
    "data.info()"
   ]
  },
  {
   "cell_type": "code",
   "execution_count": 7,
   "id": "94437cce",
   "metadata": {},
   "outputs": [],
   "source": [
    "lis=[]\n",
    "for i in genre:\n",
    "    i=str(i)\n",
    "    for p in i.split(','):\n",
    "        if p not in lis:\n",
    "            lis.append(p)"
   ]
  },
  {
   "cell_type": "code",
   "execution_count": 8,
   "id": "96787c6b",
   "metadata": {},
   "outputs": [
    {
     "data": {
      "text/plain": [
       "83"
      ]
     },
     "execution_count": 8,
     "metadata": {},
     "output_type": "execute_result"
    }
   ],
   "source": [
    "len(lis)"
   ]
  },
  {
   "cell_type": "code",
   "execution_count": 9,
   "id": "91d0efa3",
   "metadata": {},
   "outputs": [],
   "source": [
    "dic={}"
   ]
  },
  {
   "cell_type": "code",
   "execution_count": 10,
   "id": "4ca5e0bd",
   "metadata": {},
   "outputs": [],
   "source": [
    "t=[]\n",
    "for i in genre:\n",
    "    for j in lis:\n",
    "        dic[j]=0\n",
    "    i=str(i)\n",
    "    for p in i.split(','):\n",
    "        dic[p]+=1\n",
    "    t.append(list(dic.values()))      "
   ]
  },
  {
   "cell_type": "code",
   "execution_count": 11,
   "id": "d1537d5d",
   "metadata": {},
   "outputs": [
    {
     "data": {
      "text/plain": [
       "83"
      ]
     },
     "execution_count": 11,
     "metadata": {},
     "output_type": "execute_result"
    }
   ],
   "source": [
    "len(t[0])"
   ]
  },
  {
   "cell_type": "code",
   "execution_count": 12,
   "id": "61b32ed9",
   "metadata": {},
   "outputs": [],
   "source": [
    "X=np.array(t)"
   ]
  },
  {
   "cell_type": "code",
   "execution_count": 13,
   "id": "00efa48d",
   "metadata": {},
   "outputs": [
    {
     "name": "stdout",
     "output_type": "stream",
     "text": [
      "Enter the anime you like and we will find more like those for you  :Naruto\n",
      "Please enter the number of recommendations you want:5\n",
      "The anime recommended for you are :\n",
      "1 .  naruto: shippuuden\n",
      "2 .  naruto\n",
      "3 .  boruto: naruto the movie - naruto ga hokage ni natta hi\n",
      "4 .  naruto x ut\n",
      "5 .  naruto: shippuuden movie 4 - the lost tower\n"
     ]
    }
   ],
   "source": [
    "s=input('Enter the anime you like and we will find more like those for you  :')\n",
    "num=int(input('Please enter the number of recommendations you want:'))\n",
    "name=data['name'].values\n",
    "for i in range(len(name)):\n",
    "    name[i]=name[i].lower()\n",
    "s=s.lower()\n",
    "h=-1\n",
    "for i in range(len(name)):\n",
    "    if s in name[i]:\n",
    "        h=i\n",
    "        break\n",
    "imp=[]\n",
    "if h==-1:\n",
    "    print('Sorry No match found :(')\n",
    "else:\n",
    "    for i in range(len(t)):\n",
    "        if i==h:\n",
    "            continue\n",
    "        else:\n",
    "            if len(imp)<num:\n",
    "                imp.append([distance.euclidean(t[i], t[h]),t[i],i])\n",
    "            else:\n",
    "                imp.sort()\n",
    "                if imp[num-1][0]>distance.euclidean(t[i],t[h]):\n",
    "                    del imp[num-1]\n",
    "                    imp.append([distance.euclidean(t[i],t[h]),t[i],i])\n",
    "    name=data['name'].values\n",
    "    print('The anime recommended for you are :')\n",
    "    count=0\n",
    "    for i in imp:\n",
    "        count+=1\n",
    "        print(count,'. ',name[i[2]])"
   ]
  }
 ],
 "metadata": {
  "kernelspec": {
   "display_name": "Python 3 (ipykernel)",
   "language": "python",
   "name": "python3"
  },
  "language_info": {
   "codemirror_mode": {
    "name": "ipython",
    "version": 3
   },
   "file_extension": ".py",
   "mimetype": "text/x-python",
   "name": "python",
   "nbconvert_exporter": "python",
   "pygments_lexer": "ipython3",
   "version": "3.9.13"
  }
 },
 "nbformat": 4,
 "nbformat_minor": 5
}
